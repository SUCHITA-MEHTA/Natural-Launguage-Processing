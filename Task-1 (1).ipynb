{
 "cells": [
  {
   "cell_type": "code",
   "execution_count": 1,
   "metadata": {
    "collapsed": true
   },
   "outputs": [],
   "source": [
    "import nltk"
   ]
  },
  {
   "cell_type": "code",
   "execution_count": 2,
   "metadata": {},
   "outputs": [
    {
     "data": {
      "text/plain": [
       "[u'och',\n",
       " u'det',\n",
       " u'att',\n",
       " u'i',\n",
       " u'en',\n",
       " u'jag',\n",
       " u'hon',\n",
       " u'som',\n",
       " u'han',\n",
       " u'p\\xe5',\n",
       " u'den',\n",
       " u'med',\n",
       " u'var',\n",
       " u'sig',\n",
       " u'f\\xf6r',\n",
       " u's\\xe5',\n",
       " u'till',\n",
       " u'\\xe4r',\n",
       " u'men',\n",
       " u'ett',\n",
       " u'om',\n",
       " u'hade',\n",
       " u'de',\n",
       " u'av',\n",
       " u'icke',\n",
       " u'mig',\n",
       " u'du',\n",
       " u'henne',\n",
       " u'd\\xe5',\n",
       " u'sin',\n",
       " u'nu',\n",
       " u'har',\n",
       " u'inte',\n",
       " u'hans',\n",
       " u'honom',\n",
       " u'skulle',\n",
       " u'hennes',\n",
       " u'd\\xe4r',\n",
       " u'min',\n",
       " u'man',\n",
       " u'ej',\n",
       " u'vid',\n",
       " u'kunde',\n",
       " u'n\\xe5got',\n",
       " u'fr\\xe5n',\n",
       " u'ut',\n",
       " u'n\\xe4r',\n",
       " u'efter',\n",
       " u'upp',\n",
       " u'vi',\n",
       " u'dem',\n",
       " u'vara',\n",
       " u'vad',\n",
       " u'\\xf6ver',\n",
       " u'\\xe4n',\n",
       " u'dig',\n",
       " u'kan',\n",
       " u'sina',\n",
       " u'h\\xe4r',\n",
       " u'ha',\n",
       " u'mot',\n",
       " u'alla',\n",
       " u'under',\n",
       " u'n\\xe5gon',\n",
       " u'eller',\n",
       " u'allt',\n",
       " u'mycket',\n",
       " u'sedan',\n",
       " u'ju',\n",
       " u'denna',\n",
       " u'sj\\xe4lv',\n",
       " u'detta',\n",
       " u'\\xe5t',\n",
       " u'utan',\n",
       " u'varit',\n",
       " u'hur',\n",
       " u'ingen',\n",
       " u'mitt',\n",
       " u'ni',\n",
       " u'bli',\n",
       " u'blev',\n",
       " u'oss',\n",
       " u'din',\n",
       " u'dessa',\n",
       " u'n\\xe5gra',\n",
       " u'deras',\n",
       " u'blir',\n",
       " u'mina',\n",
       " u'samma',\n",
       " u'vilken',\n",
       " u'er',\n",
       " u's\\xe5dan',\n",
       " u'v\\xe5r',\n",
       " u'blivit',\n",
       " u'dess',\n",
       " u'inom',\n",
       " u'mellan',\n",
       " u's\\xe5dant',\n",
       " u'varf\\xf6r',\n",
       " u'varje',\n",
       " u'vilka',\n",
       " u'ditt',\n",
       " u'vem',\n",
       " u'vilket',\n",
       " u'sitta',\n",
       " u's\\xe5dana',\n",
       " u'vart',\n",
       " u'dina',\n",
       " u'vars',\n",
       " u'v\\xe5rt',\n",
       " u'v\\xe5ra',\n",
       " u'ert',\n",
       " u'era',\n",
       " u'vilkas']"
      ]
     },
     "execution_count": 2,
     "metadata": {},
     "output_type": "execute_result"
    }
   ],
   "source": [
    "from nltk.corpus import stopwords\n",
    "stopwords.words('swedish')"
   ]
  },
  {
   "cell_type": "code",
   "execution_count": 3,
   "metadata": {},
   "outputs": [
    {
     "data": {
      "text/plain": [
       "133737"
      ]
     },
     "execution_count": 3,
     "metadata": {},
     "output_type": "execute_result"
    }
   ],
   "source": [
    "entries = nltk.corpus.cmudict.entries()\n",
    "len(entries)"
   ]
  },
  {
   "cell_type": "code",
   "execution_count": 4,
   "metadata": {},
   "outputs": [
    {
     "name": "stdout",
     "output_type": "stream",
     "text": [
      "(u'belford', [u'B', u'EH1', u'L', u'F', u'ER0', u'D'])\n",
      "(u'belfry', [u'B', u'EH1', u'L', u'F', u'R', u'IY0'])\n",
      "(u'belgacom', [u'B', u'EH1', u'L', u'G', u'AH0', u'K', u'AA0', u'M'])\n",
      "(u'belgacom', [u'B', u'EH1', u'L', u'JH', u'AH0', u'K', u'AA0', u'M'])\n",
      "(u'belgard', [u'B', u'EH0', u'L', u'G', u'AA1', u'R', u'D'])\n",
      "(u'belgarde', [u'B', u'EH0', u'L', u'G', u'AA1', u'R', u'D', u'IY0'])\n",
      "(u'belge', [u'B', u'EH1', u'L', u'JH', u'IY0'])\n",
      "(u'belger', [u'B', u'EH1', u'L', u'G', u'ER0'])\n",
      "(u'belgian', [u'B', u'EH1', u'L', u'JH', u'AH0', u'N'])\n",
      "(u'belgians', [u'B', u'EH1', u'L', u'JH', u'AH0', u'N', u'Z'])\n",
      "(u'belgique', [u'B', u'EH0', u'L', u'ZH', u'IY1', u'K'])\n",
      "(u\"belgique's\", [u'B', u'EH0', u'L', u'JH', u'IY1', u'K', u'S'])\n",
      "(u'belgium', [u'B', u'EH1', u'L', u'JH', u'AH0', u'M'])\n",
      "(u\"belgium's\", [u'B', u'EH1', u'L', u'JH', u'AH0', u'M', u'Z'])\n",
      "(u'belgo', [u'B', u'EH1', u'L', u'G', u'OW2'])\n",
      "(u'belgrade', [u'B', u'EH1', u'L', u'G', u'R', u'EY0', u'D'])\n",
      "(u'belgrade', [u'B', u'EH1', u'L', u'G', u'R', u'AA2', u'D'])\n",
      "(u\"belgrade's\", [u'B', u'EH1', u'L', u'G', u'R', u'EY0', u'D', u'Z'])\n",
      "(u\"belgrade's\", [u'B', u'EH1', u'L', u'G', u'R', u'AA2', u'D', u'Z'])\n",
      "(u'belgrave', [u'B', u'EH1', u'L', u'G', u'R', u'EY2', u'V'])\n",
      "(u'beli', [u'B', u'EH1', u'L', u'IY0'])\n",
      "(u'belich', [u'B', u'EH1', u'L', u'IH0', u'K'])\n",
      "(u'belie', [u'B', u'IH0', u'L', u'AY1'])\n",
      "(u'belied', [u'B', u'IH0', u'L', u'AY1', u'D'])\n",
      "(u'belief', [u'B', u'IH0', u'L', u'IY1', u'F'])\n"
     ]
    }
   ],
   "source": [
    "for entry in entries[10000:10025]:\n",
    "    print(entry)"
   ]
  },
  {
   "cell_type": "code",
   "execution_count": 5,
   "metadata": {},
   "outputs": [
    {
     "data": {
      "text/plain": [
       "[Synset('car.n.01')]"
      ]
     },
     "execution_count": 5,
     "metadata": {},
     "output_type": "execute_result"
    }
   ],
   "source": [
    "from nltk.corpus import wordnet as wn\n",
    "wn.synsets('motorcar')"
   ]
  },
  {
   "cell_type": "code",
   "execution_count": 6,
   "metadata": {},
   "outputs": [
    {
     "ename": "AttributeError",
     "evalue": "'list' object has no attribute 'lemma_names'",
     "output_type": "error",
     "traceback": [
      "\u001b[1;31m---------------------------------------------------------------------------\u001b[0m",
      "\u001b[1;31mAttributeError\u001b[0m                            Traceback (most recent call last)",
      "\u001b[1;32m<ipython-input-6-7b3d30e9a1fc>\u001b[0m in \u001b[0;36m<module>\u001b[1;34m()\u001b[0m\n\u001b[1;32m----> 1\u001b[1;33m \u001b[0mwn\u001b[0m\u001b[1;33m.\u001b[0m\u001b[0msynsets\u001b[0m\u001b[1;33m(\u001b[0m\u001b[1;34m'car.n.01'\u001b[0m\u001b[1;33m)\u001b[0m\u001b[1;33m.\u001b[0m\u001b[0mlemma_names\u001b[0m\u001b[1;33m(\u001b[0m\u001b[1;33m)\u001b[0m\u001b[1;33m\u001b[0m\u001b[0m\n\u001b[0m",
      "\u001b[1;31mAttributeError\u001b[0m: 'list' object has no attribute 'lemma_names'"
     ]
    }
   ],
   "source": [
    "wn.synsets('car.n.01').lemma_names()"
   ]
  },
  {
   "cell_type": "code",
   "execution_count": null,
   "metadata": {},
   "outputs": [],
   "source": [
    "wn.synset('car.n.01').lemma_names()"
   ]
  },
  {
   "cell_type": "code",
   "execution_count": null,
   "metadata": {},
   "outputs": [],
   "source": [
    "#pipelining\n",
    "import nltk\n",
    "texts = [\"Hello world\"]\n",
    "for text in texts:\n",
    "    sentences = nltk.sent_tokenize(text)\n",
    "    for sentence in sentences:\n",
    "        words = nltk.word_tokenize(sentence)\n",
    "        tagged_words = nltk.pos_tag(words)\n",
    "        print(tagged_words)"
   ]
  },
  {
   "cell_type": "code",
   "execution_count": null,
   "metadata": {},
   "outputs": [],
   "source": [
    "import nltk\n",
    "from nltk.tokenize import TweetTokenizer\n",
    "text='The party was so fun :D #superfun'\n",
    "twtkn = TweetTokenizer()\n",
    "twtkn.tokenize(text)"
   ]
  },
  {
   "cell_type": "code",
   "execution_count": null,
   "metadata": {},
   "outputs": [],
   "source": [
    "len(twtkn.tokenize(text))"
   ]
  },
  {
   "cell_type": "code",
   "execution_count": null,
   "metadata": {},
   "outputs": [],
   "source": [
    "from nltk.corpus import wordnet as wn\n",
    "wn.synsets('pot')"
   ]
  },
  {
   "cell_type": "code",
   "execution_count": 7,
   "metadata": {},
   "outputs": [
    {
     "name": "stdout",
     "output_type": "stream",
     "text": [
      "[nltk_data] Downloading package punkt to\n",
      "[nltk_data]     C:\\Users\\suchi\\AppData\\Roaming\\nltk_data...\n",
      "[nltk_data]   Package punkt is already up-to-date!\n"
     ]
    },
    {
     "data": {
      "text/plain": [
       "True"
      ]
     },
     "execution_count": 7,
     "metadata": {},
     "output_type": "execute_result"
    }
   ],
   "source": [
    "import nltk\n",
    "nltk.download('punkt')"
   ]
  },
  {
   "cell_type": "code",
   "execution_count": null,
   "metadata": {
    "collapsed": true
   },
   "outputs": [],
   "source": []
  }
 ],
 "metadata": {
  "kernelspec": {
   "display_name": "Python 2",
   "language": "python",
   "name": "python2"
  },
  "language_info": {
   "codemirror_mode": {
    "name": "ipython",
    "version": 2
   },
   "file_extension": ".py",
   "mimetype": "text/x-python",
   "name": "python",
   "nbconvert_exporter": "python",
   "pygments_lexer": "ipython2",
   "version": "2.7.13"
  }
 },
 "nbformat": 4,
 "nbformat_minor": 2
}
